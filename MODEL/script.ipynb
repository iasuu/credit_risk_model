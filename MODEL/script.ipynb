{
 "cells": [
  {
   "cell_type": "markdown",
   "metadata": {},
   "source": [
    "# Predicting Default for Credit Risk"
   ]
  },
  {
   "cell_type": "code",
   "execution_count": 21,
   "metadata": {},
   "outputs": [],
   "source": [
    "import pandas as pd\n",
    "import numpy as np\n",
    "import sklearn\n",
    "import plotnine as ggplot\n",
    "import seaborn as sns\n",
    "import matplotlib as mpl"
   ]
  },
  {
   "cell_type": "code",
   "execution_count": 22,
   "metadata": {},
   "outputs": [],
   "source": [
    "credit_data = pd.read_csv(\"../DADOS/credit_risk_dataset.csv\")"
   ]
  },
  {
   "cell_type": "code",
   "execution_count": 23,
   "metadata": {},
   "outputs": [
    {
     "data": {
      "text/plain": [
       "(32581, 12)"
      ]
     },
     "execution_count": 23,
     "metadata": {},
     "output_type": "execute_result"
    }
   ],
   "source": [
    "credit_data.shape"
   ]
  },
  {
   "cell_type": "code",
   "execution_count": 24,
   "metadata": {},
   "outputs": [
    {
     "data": {
      "text/html": [
       "<div>\n",
       "<style scoped>\n",
       "    .dataframe tbody tr th:only-of-type {\n",
       "        vertical-align: middle;\n",
       "    }\n",
       "\n",
       "    .dataframe tbody tr th {\n",
       "        vertical-align: top;\n",
       "    }\n",
       "\n",
       "    .dataframe thead th {\n",
       "        text-align: right;\n",
       "    }\n",
       "</style>\n",
       "<table border=\"1\" class=\"dataframe\">\n",
       "  <thead>\n",
       "    <tr style=\"text-align: right;\">\n",
       "      <th></th>\n",
       "      <th>person_age</th>\n",
       "      <th>person_income</th>\n",
       "      <th>person_home_ownership</th>\n",
       "      <th>person_emp_length</th>\n",
       "      <th>loan_intent</th>\n",
       "      <th>loan_grade</th>\n",
       "      <th>loan_amnt</th>\n",
       "      <th>loan_int_rate</th>\n",
       "      <th>loan_status</th>\n",
       "      <th>loan_percent_income</th>\n",
       "      <th>cb_person_default_on_file</th>\n",
       "      <th>cb_person_cred_hist_length</th>\n",
       "    </tr>\n",
       "  </thead>\n",
       "  <tbody>\n",
       "    <tr>\n",
       "      <th>0</th>\n",
       "      <td>22</td>\n",
       "      <td>59000</td>\n",
       "      <td>RENT</td>\n",
       "      <td>123.0</td>\n",
       "      <td>PERSONAL</td>\n",
       "      <td>D</td>\n",
       "      <td>35000</td>\n",
       "      <td>16.02</td>\n",
       "      <td>1</td>\n",
       "      <td>0.59</td>\n",
       "      <td>Y</td>\n",
       "      <td>3</td>\n",
       "    </tr>\n",
       "    <tr>\n",
       "      <th>1</th>\n",
       "      <td>21</td>\n",
       "      <td>9600</td>\n",
       "      <td>OWN</td>\n",
       "      <td>5.0</td>\n",
       "      <td>EDUCATION</td>\n",
       "      <td>B</td>\n",
       "      <td>1000</td>\n",
       "      <td>11.14</td>\n",
       "      <td>0</td>\n",
       "      <td>0.10</td>\n",
       "      <td>N</td>\n",
       "      <td>2</td>\n",
       "    </tr>\n",
       "    <tr>\n",
       "      <th>2</th>\n",
       "      <td>25</td>\n",
       "      <td>9600</td>\n",
       "      <td>MORTGAGE</td>\n",
       "      <td>1.0</td>\n",
       "      <td>MEDICAL</td>\n",
       "      <td>C</td>\n",
       "      <td>5500</td>\n",
       "      <td>12.87</td>\n",
       "      <td>1</td>\n",
       "      <td>0.57</td>\n",
       "      <td>N</td>\n",
       "      <td>3</td>\n",
       "    </tr>\n",
       "    <tr>\n",
       "      <th>3</th>\n",
       "      <td>23</td>\n",
       "      <td>65500</td>\n",
       "      <td>RENT</td>\n",
       "      <td>4.0</td>\n",
       "      <td>MEDICAL</td>\n",
       "      <td>C</td>\n",
       "      <td>35000</td>\n",
       "      <td>15.23</td>\n",
       "      <td>1</td>\n",
       "      <td>0.53</td>\n",
       "      <td>N</td>\n",
       "      <td>2</td>\n",
       "    </tr>\n",
       "    <tr>\n",
       "      <th>4</th>\n",
       "      <td>24</td>\n",
       "      <td>54400</td>\n",
       "      <td>RENT</td>\n",
       "      <td>8.0</td>\n",
       "      <td>MEDICAL</td>\n",
       "      <td>C</td>\n",
       "      <td>35000</td>\n",
       "      <td>14.27</td>\n",
       "      <td>1</td>\n",
       "      <td>0.55</td>\n",
       "      <td>Y</td>\n",
       "      <td>4</td>\n",
       "    </tr>\n",
       "  </tbody>\n",
       "</table>\n",
       "</div>"
      ],
      "text/plain": [
       "   person_age  person_income person_home_ownership  person_emp_length  \\\n",
       "0          22          59000                  RENT              123.0   \n",
       "1          21           9600                   OWN                5.0   \n",
       "2          25           9600              MORTGAGE                1.0   \n",
       "3          23          65500                  RENT                4.0   \n",
       "4          24          54400                  RENT                8.0   \n",
       "\n",
       "  loan_intent loan_grade  loan_amnt  loan_int_rate  loan_status  \\\n",
       "0    PERSONAL          D      35000          16.02            1   \n",
       "1   EDUCATION          B       1000          11.14            0   \n",
       "2     MEDICAL          C       5500          12.87            1   \n",
       "3     MEDICAL          C      35000          15.23            1   \n",
       "4     MEDICAL          C      35000          14.27            1   \n",
       "\n",
       "   loan_percent_income cb_person_default_on_file  cb_person_cred_hist_length  \n",
       "0                 0.59                         Y                           3  \n",
       "1                 0.10                         N                           2  \n",
       "2                 0.57                         N                           3  \n",
       "3                 0.53                         N                           2  \n",
       "4                 0.55                         Y                           4  "
      ]
     },
     "execution_count": 24,
     "metadata": {},
     "output_type": "execute_result"
    }
   ],
   "source": [
    "credit_data.head()"
   ]
  },
  {
   "cell_type": "code",
   "execution_count": 25,
   "metadata": {},
   "outputs": [
    {
     "name": "stdout",
     "output_type": "stream",
     "text": [
      "<class 'pandas.core.frame.DataFrame'>\n",
      "RangeIndex: 32581 entries, 0 to 32580\n",
      "Data columns (total 12 columns):\n",
      " #   Column                      Non-Null Count  Dtype  \n",
      "---  ------                      --------------  -----  \n",
      " 0   person_age                  32581 non-null  int64  \n",
      " 1   person_income               32581 non-null  int64  \n",
      " 2   person_home_ownership       32581 non-null  object \n",
      " 3   person_emp_length           31686 non-null  float64\n",
      " 4   loan_intent                 32581 non-null  object \n",
      " 5   loan_grade                  32581 non-null  object \n",
      " 6   loan_amnt                   32581 non-null  int64  \n",
      " 7   loan_int_rate               29465 non-null  float64\n",
      " 8   loan_status                 32581 non-null  int64  \n",
      " 9   loan_percent_income         32581 non-null  float64\n",
      " 10  cb_person_default_on_file   32581 non-null  object \n",
      " 11  cb_person_cred_hist_length  32581 non-null  int64  \n",
      "dtypes: float64(3), int64(5), object(4)\n",
      "memory usage: 3.0+ MB\n"
     ]
    }
   ],
   "source": [
    "credit_data.info()"
   ]
  },
  {
   "cell_type": "markdown",
   "metadata": {},
   "source": [
    "We can see that some features have missing values, such as *loan_percent_income* and *person_emp_length*"
   ]
  },
  {
   "cell_type": "code",
   "execution_count": 26,
   "metadata": {},
   "outputs": [
    {
     "name": "stderr",
     "output_type": "stream",
     "text": [
      "C:\\Users\\kioia\\AppData\\Local\\Temp\\ipykernel_1552\\2833139563.py:1: FutureWarning: The default value of numeric_only in DataFrame.corr is deprecated. In a future version, it will default to False. Select only valid columns or specify the value of numeric_only to silence this warning.\n"
     ]
    },
    {
     "data": {
      "text/plain": [
       "<Axes: >"
      ]
     },
     "execution_count": 26,
     "metadata": {},
     "output_type": "execute_result"
    },
    {
     "data": {
      "image/png": "[encoded data removed]",
      "text/plain": [
       "<Figure size 640x480 with 2 Axes>"
      ]
     },
     "metadata": {},
     "output_type": "display_data"
    }
   ],
   "source": [
    "sns.heatmap(credit_data.drop(['loan_status'], axis = 1).corr())"
   ]
  },
  {
   "cell_type": "code",
   "execution_count": 27,
   "metadata": {},
   "outputs": [],
   "source": [
    "from sklearn import model_selection\n",
    "from sklearn.pipeline import Pipeline\n",
    "from sklearn.impute import SimpleImputer\n",
    "from sklearn.preprocessing import StandardScaler, OneHotEncoder\n",
    "from sklearn.compose import ColumnTransformer\n",
    "from sklearn import linear_model\n",
    "from sklearn.ensemble import GradientBoostingClassifier, RandomForestClassifier, BaggingClassifier\n",
    "from sklearn import naive_bayes\n",
    "from sklearn import metrics"
   ]
  },
  {
   "cell_type": "code",
   "execution_count": 28,
   "metadata": {},
   "outputs": [],
   "source": [
    "features = credit_data.drop({'loan_status'}, axis = 1)\n",
    "target = credit_data['loan_status']\n",
    "\n",
    "scores_metrics = []\n",
    "\n",
    "train_x, validation_x, train_y, validation_y = model_selection.train_test_split(features, target, test_size = 0.3, random_state = 1234) "
   ]
  },
  {
   "cell_type": "code",
   "execution_count": 29,
   "metadata": {},
   "outputs": [],
   "source": [
    "categorical_features = list(train_x.select_dtypes(include = 'object').columns.tolist())\n",
    "numerical_features = list(train_x.select_dtypes(exclude = 'object').columns.tolist())\n",
    "\n",
    "categorical_features_index = [train_x.columns.get_loc(col) for col in categorical_features]\n",
    "numerical_features_index = [train_x.columns.get_loc(col) for col in numerical_features]"
   ]
  },
  {
   "cell_type": "code",
   "execution_count": 30,
   "metadata": {},
   "outputs": [],
   "source": [
    "num_pipeline = Pipeline([\n",
    "    ('num_input', SimpleImputer(strategy='median')),\n",
    "    ('Strd', StandardScaler())\n",
    "])\n",
    "\n",
    "cat_pipeline = Pipeline([\n",
    "    ('cat_imput', SimpleImputer(strategy='most_frequent')),\n",
    "    ('OneHot', OneHotEncoder())\n",
    "])\n",
    "\n",
    "preprocessing = ColumnTransformer([\n",
    "    ('numerical_tranformer', num_pipeline, numerical_features_index),\n",
    "    ('categrical_transformer', cat_pipeline, categorical_features_index)\n",
    "])"
   ]
  },
  {
   "cell_type": "markdown",
   "metadata": {},
   "source": [
    "### Logistic Regression with Cross-Valdiation"
   ]
  },
  {
   "cell_type": "code",
   "execution_count": 31,
   "metadata": {},
   "outputs": [
    {
     "name": "stderr",
     "output_type": "stream",
     "text": [
      "c:\\Users\\kioia\\AppData\\Local\\Programs\\Python\\Python311\\Lib\\site-packages\\sklearn\\linear_model\\_logistic.py:460: ConvergenceWarning: lbfgs failed to converge (status=1):\n",
      "STOP: TOTAL NO. of ITERATIONS REACHED LIMIT.\n",
      "\n",
      "Increase the number of iterations (max_iter) or scale the data as shown in:\n",
      "    https://scikit-learn.org/stable/modules/preprocessing.html\n",
      "Please also refer to the documentation for alternative solver options:\n",
      "    https://scikit-learn.org/stable/modules/linear_model.html#logistic-regression\n",
      "c:\\Users\\kioia\\AppData\\Local\\Programs\\Python\\Python311\\Lib\\site-packages\\sklearn\\linear_model\\_logistic.py:460: ConvergenceWarning: lbfgs failed to converge (status=1):\n",
      "STOP: TOTAL NO. of ITERATIONS REACHED LIMIT.\n",
      "\n",
      "Increase the number of iterations (max_iter) or scale the data as shown in:\n",
      "    https://scikit-learn.org/stable/modules/preprocessing.html\n",
      "Please also refer to the documentation for alternative solver options:\n",
      "    https://scikit-learn.org/stable/modules/linear_model.html#logistic-regression\n",
      "c:\\Users\\kioia\\AppData\\Local\\Programs\\Python\\Python311\\Lib\\site-packages\\sklearn\\linear_model\\_logistic.py:460: ConvergenceWarning: lbfgs failed to converge (status=1):\n",
      "STOP: TOTAL NO. of ITERATIONS REACHED LIMIT.\n",
      "\n",
      "Increase the number of iterations (max_iter) or scale the data as shown in:\n",
      "    https://scikit-learn.org/stable/modules/preprocessing.html\n",
      "Please also refer to the documentation for alternative solver options:\n",
      "    https://scikit-learn.org/stable/modules/linear_model.html#logistic-regression\n",
      "c:\\Users\\kioia\\AppData\\Local\\Programs\\Python\\Python311\\Lib\\site-packages\\sklearn\\linear_model\\_logistic.py:460: ConvergenceWarning: lbfgs failed to converge (status=1):\n",
      "STOP: TOTAL NO. of ITERATIONS REACHED LIMIT.\n",
      "\n",
      "Increase the number of iterations (max_iter) or scale the data as shown in:\n",
      "    https://scikit-learn.org/stable/modules/preprocessing.html\n",
      "Please also refer to the documentation for alternative solver options:\n",
      "    https://scikit-learn.org/stable/modules/linear_model.html#logistic-regression\n",
      "c:\\Users\\kioia\\AppData\\Local\\Programs\\Python\\Python311\\Lib\\site-packages\\sklearn\\linear_model\\_logistic.py:460: ConvergenceWarning: lbfgs failed to converge (status=1):\n",
      "STOP: TOTAL NO. of ITERATIONS REACHED LIMIT.\n",
      "\n",
      "Increase the number of iterations (max_iter) or scale the data as shown in:\n",
      "    https://scikit-learn.org/stable/modules/preprocessing.html\n",
      "Please also refer to the documentation for alternative solver options:\n",
      "    https://scikit-learn.org/stable/modules/linear_model.html#logistic-regression\n"
     ]
    }
   ],
   "source": [
    "cv = model_selection.RepeatedKFold(n_splits=5, n_repeats=3)\n",
    "\n",
    "pipeline = Pipeline([\n",
    "    ('preprocessing', preprocessing),\n",
    "    ('model', linear_model.LogisticRegressionCV(cv=cv))\n",
    "])\n",
    "pipeline.fit(train_x, train_y)\n",
    "prediction = pipeline.predict(validation_x)\n",
    "logistic_name = type(linear_model.LogisticRegressionCV(cv=cv)).__name__\n",
    "\n",
    "recall_logistic = metrics.recall_score(y_true=validation_y, y_pred=prediction)\n",
    "f1_logistic = metrics.f1_score(y_true=validation_y, y_pred=prediction)\n",
    "\n",
    "scores_metrics.append([logistic_name, recall_logistic, f1_logistic])"
   ]
  },
  {
   "cell_type": "markdown",
   "metadata": {},
   "source": [
    "### Gradient Boosting"
   ]
  },
  {
   "cell_type": "code",
   "execution_count": 32,
   "metadata": {},
   "outputs": [],
   "source": [
    "param_grid = {\n",
    "    'n_estimators': [25, 50, 75],\n",
    "    'learning_rate': [0.001, 0.01, 0.1],\n",
    "    'max_depth': [5, 10, 15, 20]\n",
    "}\n",
    "\n",
    "gb_classifier = GradientBoostingClassifier(learning_rate=0.1, max_depth=10, n_estimators=75, random_state=1234)\n",
    "\n",
    "# grid_search = model_selection.GridSearchCV(\n",
    "#     gb_classifier, \n",
    "#     param_grid=param_grid,\n",
    "#     cv=cv,\n",
    "#     scoring='recall',\n",
    "#     n_jobs=-1\n",
    "# )\n",
    "\n",
    "pipeline = Pipeline([\n",
    "    ('preprocessing', preprocessing),\n",
    "    ('model', gb_classifier)\n",
    "])\n",
    "\n",
    "pipeline.fit(train_x, train_y)\n",
    "prediction = pipeline.predict(validation_x)\n",
    "\n",
    "recall_gb = metrics.recall_score(y_true=validation_y, y_pred=prediction)\n",
    "f1_gb = metrics.f1_score(y_true=validation_y, y_pred=prediction)\n",
    "\n",
    "gb_name = type(gb_classifier).__name__\n",
    "\n",
    "scores_metrics.append([gb_name, recall_gb, f1_gb])"
   ]
  },
  {
   "cell_type": "markdown",
   "metadata": {},
   "source": [
    "### Bagging Classifier"
   ]
  },
  {
   "cell_type": "code",
   "execution_count": 33,
   "metadata": {},
   "outputs": [],
   "source": [
    "# params_grid = {\n",
    "#     'n_estimators': [10, 20, 50, 75, 100, 125],\n",
    "#     'max_samples': [1, 2, 3, 5],\n",
    "#     'max_features': [1, 2, 5, 10, 15]\n",
    "# }\n",
    "\n",
    "bagging_classifier = BaggingClassifier(max_features=15, max_samples=5, n_estimators=10, random_state=1234)\n",
    "\n",
    "# grid_search = model_selection.GridSearchCV(\n",
    "#     bagging_classifier,\n",
    "#     param_grid=params_grid,\n",
    "#     cv=cv,\n",
    "#     scoring='recall',\n",
    "#     n_jobs=-1\n",
    "# )\n",
    "\n",
    "pipeline = Pipeline([\n",
    "    ('preprocessing', preprocessing),\n",
    "    ('model', bagging_classifier)\n",
    "])\n",
    "\n",
    "pipeline.fit(train_x, train_y)\n",
    "prediction = pipeline.predict(validation_x)\n",
    "\n",
    "bag_name = type(bagging_classifier).__name__\n",
    "\n",
    "recall_bag = metrics.recall_score(y_true=validation_y, y_pred=prediction)\n",
    "f1_bag = metrics.f1_score(y_true=validation_y, y_pred=prediction)\n",
    "\n",
    "scores_metrics.append([bag_name, recall_bag, f1_bag])\n",
    "\n",
    "# model_bag = pipeline[1]\n",
    "# best_par_bag = model_bag.best_params_\n",
    "# best_par_bag\n"
   ]
  },
  {
   "cell_type": "markdown",
   "metadata": {},
   "source": [
    "### Random Forest"
   ]
  },
  {
   "cell_type": "code",
   "execution_count": 34,
   "metadata": {},
   "outputs": [],
   "source": [
    "# params_grid = {\n",
    "#     'n_estimators': [75, 100, 125],\n",
    "#     'min_samples_leaf': [1, 50, 100],\n",
    "#     'min_samples_split': [2, 10, 20],\n",
    "#     'max_depth': [5, 10, 15, 20, 25, 50]\n",
    "# }\n",
    "\n",
    "rf_classifier = RandomForestClassifier(max_depth=25, min_samples_leaf=1, min_samples_split=2, n_estimators=75, random_state=1234)\n",
    "\n",
    "# grid_search = model_selection.GridSearchCV(\n",
    "#     rf_classifier,\n",
    "#     param_grid=params_grid,\n",
    "#     cv=cv,\n",
    "#     scoring='recall',\n",
    "#     n_jobs=-1\n",
    "# )\n",
    "\n",
    "pipeline = Pipeline([\n",
    "    ('preprocessing', preprocessing),\n",
    "    ('model', rf_classifier)\n",
    "])\n",
    "\n",
    "pipeline.fit(train_x, train_y)\n",
    "prediction = pipeline.predict(validation_x)\n",
    "\n",
    "rf_name = type(rf_classifier).__name__\n",
    "\n",
    "recall_rf = metrics.recall_score(y_true=validation_y, y_pred=prediction)\n",
    "f1_rf = metrics.f1_score(y_true=validation_y, y_pred=prediction)\n",
    "\n",
    "scores_metrics.append([rf_name, recall_rf, f1_rf])\n",
    "\n",
    "# model_rf = pipeline[1]\n",
    "# best_par_rf = model_rf.best_params_\n",
    "# best_par_rf"
   ]
  },
  {
   "cell_type": "markdown",
   "metadata": {},
   "source": [
    "### Naive Bayes"
   ]
  },
  {
   "cell_type": "code",
   "execution_count": 35,
   "metadata": {},
   "outputs": [],
   "source": [
    "pipeline = Pipeline([\n",
    "    ('preprocessing', preprocessing),\n",
    "    ('model', naive_bayes.GaussianNB())\n",
    "])\n",
    "\n",
    "pipeline.fit(train_x, train_y)\n",
    "prediction = pipeline.predict(validation_x)\n",
    "\n",
    "nb_name = type(naive_bayes.GaussianNB()).__name__\n",
    "recall_nb = metrics.recall_score(y_true=validation_y, y_pred=prediction)\n",
    "f1_nb = metrics.f1_score(y_true=validation_y, y_pred=prediction)\n",
    "\n",
    "scores_metrics.append([nb_name, recall_nb, f1_nb])"
   ]
  },
  {
   "cell_type": "markdown",
   "metadata": {},
   "source": [
    "### KNN"
   ]
  },
  {
   "cell_type": "code",
   "execution_count": 36,
   "metadata": {},
   "outputs": [],
   "source": [
    "from sklearn.preprocessing import MinMaxScaler\n",
    "from sklearn.neighbors import KNeighborsClassifier"
   ]
  },
  {
   "cell_type": "code",
   "execution_count": 37,
   "metadata": {},
   "outputs": [],
   "source": [
    "num_pipeline_knn = Pipeline([\n",
    "    ('num_input', SimpleImputer(strategy='median')),\n",
    "    ('Strd', MinMaxScaler())\n",
    "])\n",
    "\n",
    "preprocessing_knn = ColumnTransformer([\n",
    "    ('numerical_tranformer', num_pipeline_knn, numerical_features_index),\n",
    "    ('categrical_transformer', cat_pipeline, categorical_features_index)\n",
    "])"
   ]
  },
  {
   "cell_type": "code",
   "execution_count": 38,
   "metadata": {},
   "outputs": [],
   "source": [
    "# params_grid = {\n",
    "#     'n_neighbors': [2, 3, 4, 5, 6, 7, 8, 9, 10, 15]\n",
    "# }\n",
    "\n",
    "knn_model = KNeighborsClassifier(n_neighbors=3)\n",
    "\n",
    "# grid_search_knn = model_selection.GridSearchCV(\n",
    "#     knn_model,\n",
    "#     param_grid=params_grid,\n",
    "#     cv=cv,\n",
    "#     scoring='recall',\n",
    "#     n_jobs=-1\n",
    "# )\n",
    "\n",
    "pipeline = Pipeline([\n",
    "    ('preprocessing', preprocessing_knn),\n",
    "    ('model', knn_model)\n",
    "])\n",
    "\n",
    "pipeline.fit(train_x, train_y)\n",
    "prediction = pipeline.predict(validation_x)\n",
    "\n",
    "knn_name = type(knn_model).__name__\n",
    "recall_knn = metrics.recall_score(y_true=validation_y, y_pred=prediction)\n",
    "f1_score = metrics.f1_score(y_true=validation_y, y_pred=prediction)\n",
    "\n",
    "scores_metrics.append([knn_name, recall_knn, f1_score])\n",
    "\n",
    "# model_knn = pipeline[1]\n",
    "# best_par_knn = model_knn.best_params_\n",
    "# best_par_knn"
   ]
  },
  {
   "cell_type": "markdown",
   "metadata": {},
   "source": [
    "### Comparing models"
   ]
  },
  {
   "cell_type": "code",
   "execution_count": 40,
   "metadata": {},
   "outputs": [
    {
     "data": {
      "text/html": [
       "<div>\n",
       "<style scoped>\n",
       "    .dataframe tbody tr th:only-of-type {\n",
       "        vertical-align: middle;\n",
       "    }\n",
       "\n",
       "    .dataframe tbody tr th {\n",
       "        vertical-align: top;\n",
       "    }\n",
       "\n",
       "    .dataframe thead th {\n",
       "        text-align: right;\n",
       "    }\n",
       "</style>\n",
       "<table border=\"1\" class=\"dataframe\">\n",
       "  <thead>\n",
       "    <tr style=\"text-align: right;\">\n",
       "      <th></th>\n",
       "      <th>Model</th>\n",
       "      <th>Recall Score</th>\n",
       "      <th>F1 Score</th>\n",
       "    </tr>\n",
       "  </thead>\n",
       "  <tbody>\n",
       "    <tr>\n",
       "      <th>0</th>\n",
       "      <td>LogisticRegressionCV</td>\n",
       "      <td>0.545287</td>\n",
       "      <td>0.636950</td>\n",
       "    </tr>\n",
       "    <tr>\n",
       "      <th>1</th>\n",
       "      <td>GradientBoostingClassifier</td>\n",
       "      <td>0.731494</td>\n",
       "      <td>0.831461</td>\n",
       "    </tr>\n",
       "    <tr>\n",
       "      <th>2</th>\n",
       "      <td>BaggingClassifier</td>\n",
       "      <td>0.016552</td>\n",
       "      <td>0.032057</td>\n",
       "    </tr>\n",
       "    <tr>\n",
       "      <th>3</th>\n",
       "      <td>RandomForestClassifier</td>\n",
       "      <td>0.720920</td>\n",
       "      <td>0.826133</td>\n",
       "    </tr>\n",
       "    <tr>\n",
       "      <th>4</th>\n",
       "      <td>GaussianNB</td>\n",
       "      <td>0.264368</td>\n",
       "      <td>0.387728</td>\n",
       "    </tr>\n",
       "    <tr>\n",
       "      <th>5</th>\n",
       "      <td>KNeighborsClassifier</td>\n",
       "      <td>0.623448</td>\n",
       "      <td>0.700956</td>\n",
       "    </tr>\n",
       "  </tbody>\n",
       "</table>\n",
       "</div>"
      ],
      "text/plain": [
       "                        Model  Recall Score  F1 Score\n",
       "0        LogisticRegressionCV      0.545287  0.636950\n",
       "1  GradientBoostingClassifier      0.731494  0.831461\n",
       "2           BaggingClassifier      0.016552  0.032057\n",
       "3      RandomForestClassifier      0.720920  0.826133\n",
       "4                  GaussianNB      0.264368  0.387728\n",
       "5        KNeighborsClassifier      0.623448  0.700956"
      ]
     },
     "execution_count": 40,
     "metadata": {},
     "output_type": "execute_result"
    }
   ],
   "source": [
    "pd.DataFrame(scores_metrics).rename(columns={0: 'Model', 1: 'Recall Score', 2: 'F1 Score'})"
   ]
  },
  {
   "cell_type": "markdown",
   "metadata": {},
   "source": [
    "### ROC Curve"
   ]
  },
  {
   "cell_type": "code",
   "execution_count": null,
   "metadata": {},
   "outputs": [],
   "source": []
  }
 ],
 "metadata": {
  "kernelspec": {
   "display_name": "Python 3",
   "language": "python",
   "name": "python3"
  },
  "language_info": {
   "codemirror_mode": {
    "name": "ipython",
    "version": 3
   },
   "file_extension": ".py",
   "mimetype": "text/x-python",
   "name": "python",
   "nbconvert_exporter": "python",
   "pygments_lexer": "ipython3",
   "version": "3.11.0"
  }
 },
 "nbformat": 4,
 "nbformat_minor": 2
}
